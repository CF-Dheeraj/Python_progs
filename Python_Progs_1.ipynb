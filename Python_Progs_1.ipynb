{
 "cells": [
  {
   "cell_type": "code",
   "execution_count": 1,
   "id": "016e51d9",
   "metadata": {},
   "outputs": [
    {
     "name": "stdout",
     "output_type": "stream",
     "text": [
      "Provide a year to check whether leap year or not: 1700\n",
      "Not a Leap year just a century year\n"
     ]
    }
   ],
   "source": [
    "\n",
    "year = int(input(\"Provide a year to check whether leap year or not: \"))\n",
    "if(year%4==0):\n",
    "\n",
    "    if(year%100==0):\n",
    "\n",
    "        if(year%400==0):\n",
    "\n",
    "           print(\"This is a century leap year\") \n",
    "\n",
    "        else:\n",
    "\n",
    "            print(\"Not a Leap year just a century year\")\n",
    "\n",
    "\n",
    "    else:\n",
    "\n",
    "        print(\"This is a leap year\")\n",
    "\n",
    "\n",
    "else:\n",
    "    print(\"Not a leap year\")\n"
   ]
  },
  {
   "cell_type": "code",
   "execution_count": null,
   "id": "e97c7ee2",
   "metadata": {},
   "outputs": [
    {
     "name": "stdout",
     "output_type": "stream",
     "text": [
      "Please enter the amount to be converted: 1\n",
      "Please enter the currency code of the amount: USD\n",
      "Please enter the currency code to which you want to convert: INR\n"
     ]
    }
   ],
   "source": [
    "from forex_python.converter import CurrencyRates\n",
    "rates = CurrencyRates()\n",
    "amount=int(input(\"Please enter the amount to be converted: \"))\n",
    "from_cr_code= input(\"Please enter the currency code of the amount: \").upper()\n",
    "to_cr_code=input(\"Please enter the currency code to which you want to convert: \").upper()\n",
    "converted_data=rates.convert(from_cr_code, to_cr_code, amount)\n",
    "print(f'{amount} {from_cr_code} is equal to {converted_data: .2f} {to_cr_code}')"
   ]
  },
  {
   "cell_type": "code",
   "execution_count": 3,
   "id": "9aa8090f",
   "metadata": {},
   "outputs": [
    {
     "name": "stdout",
     "output_type": "stream",
     "text": [
      "From which currrency code: usd\n",
      "To which currency code: inr\n",
      "Enter the amount1\n",
      "88.668558\n"
     ]
    }
   ],
   "source": [
    "import requests\n",
    "url='http://data.fixer.io/api/latest?access_key=2286928597c8a1a0e223baff65b27178'\n",
    "#need paid subscription for fixer\n",
    "\n",
    "def currency_convertor():\n",
    "    from_currency=input(\"From which currrency code: \").upper()\n",
    "    to_currency = input(\"To which currency code: \").upper()\n",
    "    amount= int(input(\"Enter the amount\"))\n",
    "    response= requests.get(url)\n",
    "    #print(response.json())\n",
    "    rate=response.json()['rates'][from_currency]\n",
    "    amount_in_base= amount/rate\n",
    "    amount = amount*(response.json()['rates'][to_currency])\n",
    "    return amount\n",
    "output= currency_convertor()\n",
    "print(output)"
   ]
  },
  {
   "cell_type": "code",
   "execution_count": 1,
   "id": "9d49db32",
   "metadata": {},
   "outputs": [
    {
     "name": "stdout",
     "output_type": "stream",
     "text": [
      "Enter text to convert it into speech: Hi Dheeraj\n"
     ]
    }
   ],
   "source": [
    "import pyttsx3\n",
    "\n",
    "engine=pyttsx3.init()\n",
    "\n",
    "user_input=input(\"Enter text to convert it into speech: \");\n",
    "\n",
    "engine.say(user_input)\n",
    "engine.runAndWait()"
   ]
  },
  {
   "cell_type": "code",
   "execution_count": 2,
   "id": "77afa901",
   "metadata": {},
   "outputs": [
    {
     "name": "stdout",
     "output_type": "stream",
     "text": [
      "Please enter the length of password8\n",
      "Select below choices to be included in password list\n",
      "        1.Digits\n",
      "        2.Letters\n",
      "        3.Special Characters\n",
      "        4.Exit\n",
      "        \n",
      "Please select your choice1\n",
      "Please select your choice2\n",
      "Please select your choice4\n",
      "Your password is:sfUNbfvA\n"
     ]
    }
   ],
   "source": [
    "import string\n",
    "import random\n",
    "\n",
    "length= int(input(\"Please enter the length of password\"))\n",
    "\n",
    "print('''Select below choices to be included in password list\n",
    "        1.Digits\n",
    "        2.Letters\n",
    "        3.Special Characters\n",
    "        4.Exit\n",
    "        ''')\n",
    "charlist=\"\"\n",
    "while(True):\n",
    "    choice = int(input(\"Please select your choice\"))\n",
    "    \n",
    "    if(choice==1):\n",
    "        charlist+=string.digits\n",
    "    elif(choice==2):\n",
    "        charlist+=string.ascii_letters\n",
    "    elif(choice==3):\n",
    "        charlist+=string.punctuation\n",
    "    else:\n",
    "        break\n",
    "password=[]\n",
    "for i in range(length):\n",
    "    r_chars=random.choice(charlist)\n",
    "    password.append(r_chars)\n",
    "print(\"Your password is:\"+ \"\".join(password))\n",
    "    \n",
    "    \n",
    "        \n",
    "    "
   ]
  },
  {
   "cell_type": "code",
   "execution_count": null,
   "id": "ed063660",
   "metadata": {},
   "outputs": [],
   "source": []
  }
 ],
 "metadata": {
  "kernelspec": {
   "display_name": "Python 3 (ipykernel)",
   "language": "python",
   "name": "python3"
  },
  "language_info": {
   "codemirror_mode": {
    "name": "ipython",
    "version": 3
   },
   "file_extension": ".py",
   "mimetype": "text/x-python",
   "name": "python",
   "nbconvert_exporter": "python",
   "pygments_lexer": "ipython3",
   "version": "3.10.9"
  }
 },
 "nbformat": 4,
 "nbformat_minor": 5
}
